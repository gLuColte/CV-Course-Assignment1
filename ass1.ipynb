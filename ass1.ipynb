{
 "cells": [
  {
   "cell_type": "code",
   "execution_count": 7,
   "metadata": {
    "collapsed": true,
    "pycharm": {
     "is_executing": false
    }
   },
   "outputs": [],
   "source": [
    "#Importing Library\n",
    "import cv2, os, sys\n",
    "import numpy as np\n",
    "import time"
   ]
  },
  {
   "cell_type": "markdown",
   "metadata": {
    "pycharm": {
     "name": "#%% md\n"
    }
   },
   "source": [
    "# Task 1 (Background Estimation):\n",
    "\n",
    "## Part I:\n",
    "First create a new image, image_A, wth the same size (No# Px rows and columns) as the input image, which we call image_I."
   ]
  },
  {
   "cell_type": "code",
   "execution_count": 8,
   "metadata": {
    "pycharm": {
     "is_executing": false,
     "name": "#%%\n"
    }
   },
   "outputs": [
    {
     "name": "stdout",
     "text": [
      "Input image specifications: Height 320, Width 394\n",
      "Image_A created and stored as a variable as specified!\n"
     ],
     "output_type": "stream"
    }
   ],
   "source": [
    "#Input Image read as Gray scale\n",
    "image_I = cv2.imread(\"Particles.png\", cv2.IMREAD_GRAYSCALE)\n",
    "(height, width) = image_I.shape\n",
    "#Dimension of Input Image\n",
    "print(f\"Input image specifications: Height {height}, Width {width}\")\n",
    "#Create a new image_A by copying image_I\n",
    "image_A = image_I.copy()\n",
    "print(f'Image_A created and stored as a variable as specified!')"
   ]
  },
  {
   "cell_type": "markdown",
   "metadata": {
    "pycharm": {
     "name": "#%% md\n"
    }
   },
   "source": [
    "## Part II:\n",
    "Second, the algorithm should go through the pixels of I one by one, and for each pixel(x,y) it must find the maximum gray value in a neighbourhood around that pixel, and write that maximum gray value in the corresponding pixel location (x,y) in A. The resulting image A is called a **max-filtered** image of input image_I. \n",
    "<br><br>\n",
    "The neighbourhood should be of size N X N pixels, where N is a free parameter of the algorithm. Experiement with different values of N and mention in your report what is the smallest value of N that causes the dark particles in I to disappear altogether in image A. Also explain why this value of N causes the particles to disappear.\n",
    "The max-filtering causes the gray values in A to be higher than the actual background values\n",
    "in I, so a correction is needed. Extend your algorithm to create another image, which we call\n",
    "image B here, of the same size as I and A. Now let the algorithm go through the pixels of A\n",
    "one by one, and for each pixel (x,y) find the minimum gray value in an N x N neighbourhood\n",
    "around that pixel, and write that minimum gray value in (x,y) in B. The resulting image B is \n",
    "called a min-filtered image of the image A.\n",
    "In your report, include image B computed from Particles.png."
   ]
  },
  {
   "cell_type": "code",
   "execution_count": 9,
   "metadata": {
    "pycharm": {
     "is_executing": false,
     "name": "#%%\n"
    }
   },
   "outputs": [
    {
     "name": "stdout",
     "text": [
      "Completed! image_A is maxed filtered, image_B is minfilter of image_A, resulting in background of image_I.\n"
     ],
     "output_type": "stream"
    }
   ],
   "source": [
    "def brute_force_filter_function(input_image, N, indicator):\n",
    "    '''\n",
    "    Brute force method, go through matrix via x,y coordinates, and store each pixel intensity value within NxN window \n",
    "    into a neighbourhood list, then finally find max or min within the list. \n",
    "    :param input_image: numpy image matrix\n",
    "    :param N: windows size NxN\n",
    "    :param indicator: max or min filter\n",
    "    :return: filtered image\n",
    "    '''\n",
    "    (height, width) = input_image.shape\n",
    "    if (N%2) == 0 or N <= 1:\n",
    "        print(\"Input Error: max_gray - NxN maxtrix should be an odd number, as even number results in bias choice of anchoring.\")\n",
    "        return \n",
    "    #We anchor at center point\n",
    "    steps = int(N/2)\n",
    "    #First create a dummy array\n",
    "    output_image = np.zeros_like(input_image)\n",
    "    for y in range(0, height):\n",
    "        for x in range(0, width):\n",
    "            #We iterate through the x,t coordinates, y represent row number, x represent cell\n",
    "            #print(f'Current X = {x}, Current Y = {y}')\n",
    "            neighbourhood = []\n",
    "            #steps in y\n",
    "            for j in range(-steps, steps+1):\n",
    "                #steps in x\n",
    "                for i in range(-steps, steps+1):\n",
    "                    if (y+j >= 0 and y+j < height) and (x+i >= 0 and x+i < width):\n",
    "                        try:\n",
    "                            neighbourhood.append(input_image[y+j][x+i])\n",
    "                        except IndexError:\n",
    "                            continue\n",
    "            if indicator == 'max':\n",
    "                output_image[y][x] = max(neighbourhood)\n",
    "            elif indicator == 'min':\n",
    "                output_image[y][x] = min(neighbourhood)\n",
    "    return output_image\n",
    "def numpy_slicing_filter_function(input_image, N, indicator):\n",
    "    '''\n",
    "    numpy slicing filter, go through matrix via x and y coordinates, slice out NxN window by first finding x and y lower \n",
    "    and upper bound. once the NxN window is sliced out using numpy amax or amin to find respective value.\n",
    "    :param input_image: \n",
    "    :param N: \n",
    "    :param indicator: \n",
    "    :return: \n",
    "    '''\n",
    "    (height, width) = input_image.shape\n",
    "    if (N%2) == 0 or N <= 1:\n",
    "        print(\"Input Error: max_gray - NxN maxtrix should be an odd number, as even number results in bias choice of anchoring.\")\n",
    "        return \n",
    "    #We anchor at center point\n",
    "    steps = int(N/2)\n",
    "    step_list = [i for i in range(-steps, steps+1)]\n",
    "    reverse_steps_list = step_list[::-1]\n",
    "    #First create a dummy array\n",
    "    output_image = np.zeros_like(input_image)\n",
    "    for y in range(0, height):\n",
    "        for x in range(0, width):\n",
    "            #We iterate through the x,t coordinates, y represent row number, x represent cell\n",
    "            #print(f'Current X = {x}, Current Y = {y}')\n",
    "            #First Find window Boundaries for x\n",
    "            #x_lower bound\n",
    "            for i in step_list:\n",
    "                if x + i >= 0:\n",
    "                    x_lower_bound = x+i\n",
    "                    break\n",
    "            #y_lower_bound\n",
    "            for j in step_list:\n",
    "                if y + j >= 0:\n",
    "                    y_lower_bound = y+j\n",
    "                    break\n",
    "            #x_upper bound\n",
    "            for i in reverse_steps_list:\n",
    "                if x + i <= width and x+i >=0:\n",
    "                    x_upper_bound = x+i\n",
    "                    break\n",
    "            #y_upper_bound\n",
    "            for j in reverse_steps_list:\n",
    "                if y + j <= height and y+j >=0:\n",
    "                    y_upper_bound = y+j\n",
    "                    break\n",
    "            window_matrix= input_image[y_lower_bound:y_upper_bound+1, x_lower_bound:x_upper_bound+1]\n",
    "            if indicator == 'max':\n",
    "                output_image[y][x] = np.amax(window_matrix)\n",
    "            elif indicator == 'min':\n",
    "                output_image[y][x] = np.amin(window_matrix)\n",
    "    return output_image\n",
    "'''\n",
    "#To ensure 2 matrix provides same output\n",
    "for i in range(3, 10, 2):\n",
    "    image_A_brute = brute_force_filter_function(image_A, i, 'max')\n",
    "    image_A_numpy = numpy_slicing_filter_function(image_A, i, 'max')\n",
    "    #Comparing 2 matrix to ensure both outcomes are the same\n",
    "    filter_function_comparison = image_A_brute == image_A_numpy\n",
    "    if filter_function_comparison.all() != True:\n",
    "        print(\"Output differed!\")\n",
    "print(\"Completed Comparison test, all output is the same!\")\n",
    "'''\n",
    "#Change directory to avoid overflooding main directory with image files\n",
    "main_directory = os.getcwd()\n",
    "os.chdir('particles/')\n",
    "'''\n",
    "#To find the optimal A, we experience with different N value\n",
    "for i in range(3, 30, 2):\n",
    "    image_A_filtered = numpy_slicing_filter_function(image_A, i, 'max')\n",
    "    cv2.imwrite(f'Max_N_{i}.png', image_A_filtered)\n",
    "'''\n",
    "#From analysis N = 13 has all particles disappeared, now lets perform min_filter on image_A\n",
    "image_A = numpy_slicing_filter_function(image_A, 13, 'max')\n",
    "cv2.imwrite(\"image_A_selected_N=13.png\", image_A)\n",
    "'''\n",
    "#Usually N value stays the same for max-min filter, however for the sake of experiement, lets run various N value\n",
    "#on image_A to see the different effects\n",
    "for i in range(3, 30, 2):\n",
    "    image_B_filtered = numpy_slicing_filter_function(image_A, i, 'min')\n",
    "    cv2.imwrite(f'Min_N_{i}.png', image_B_filtered)\n",
    "'''\n",
    "#image_B uses consistent N value:\n",
    "image_B = numpy_slicing_filter_function(image_A, 13, 'min')\n",
    "cv2.imwrite(\"image_B_selected_N=13.png\", image_B)\n",
    "print('Completed! image_A is maxed filtered, image_B is minfilter of image_A, resulting in background of image_I.')"
   ]
  },
  {
   "cell_type": "markdown",
   "metadata": {
    "pycharm": {
     "is_executing": false,
     "name": "#%% md\n"
    }
   },
   "source": [
    "# Task 2 (Background Subtraction):\n",
    "\n",
    "## Part I:\n",
    "Now that your algorithm can estimate the background B of an image I, removing the shading artifacts from I can be done by subtracting B pixel by pixel form I, resulting in the output image O. Extend your algorithm to perform this subtraction.\n",
    "\n",
    "In your report, include image O computed from Particles.png\n"
   ]
  },
  {
   "cell_type": "code",
   "execution_count": 10,
   "metadata": {
    "pycharm": {
     "is_executing": false,
     "name": "#%%\n"
    }
   },
   "outputs": [
    {
     "name": "stdout",
     "text": [
      "Completed! See image_O for output of particles.png under particles directory, filtered and normalised by O = I-B +255.\n"
     ],
     "output_type": "stream"
    }
   ],
   "source": [
    "#O = I - B + 255\n",
    "#image_B represents the background\n",
    "#image_I represents the original image\n",
    "#We need to change the data type to float\n",
    "image_O = np.subtract(image_I.astype(np.float32), image_B.astype(np.float32)) +255\n",
    "cv2.imwrite('particles_image_O_raw.png', image_O)\n",
    "print(\"Completed! See image_O for output of particles.png under particles directory, filtered and normalised by O = I-B +255.\")"
   ]
  },
  {
   "cell_type": "markdown",
   "metadata": {
    "pycharm": {
     "name": "#%% md\n"
    }
   },
   "source": [
    "# Task 3 (Algorithm generalisation):\n",
    "\n",
    "## Part I\n",
    "Open the given image **Cells.png** which, similar to **Particles.png**, has a background shading pattern that needs to be removed. There are three main difference between the two images:\n",
    "- The sizes of the images are different\n",
    "- The sizes of the objects (cells versus particles) are different\n",
    "- In **Cells.png** the objects are bright and the background is dark, whereas in Particles.png the objects are dark and the background is bright\n",
    "\n",
    "Make sure your algorithm can deal with input images of arbitrary size. Dealing with larger objects in images ia a matter of changing the value of the neighbourhood parameter N. But as you will see, your algorithm will not be able to remove the shading from **Cells.png**. To make your algorithm work for that image, you need to reverse the max-filtering and min-filtering."
   ]
  },
  {
   "cell_type": "code",
   "execution_count": 11,
   "metadata": {
    "pycharm": {
     "is_executing": false,
     "name": "#%%\n"
    }
   },
   "outputs": [
    {
     "name": "stdout",
     "text": [
      "Completed! See image_O for output of cells.png under cells directory, filtered and normalised by O = I-B +255.\n"
     ],
     "output_type": "stream"
    }
   ],
   "source": [
    "#Now we need to operate with Cells.png\n",
    "#First change back to main directory\n",
    "os.chdir(main_directory)\n",
    "#load cells.png to image_I, and make a copy\n",
    "image_I = cv2.imread('Cells.png', cv2.IMREAD_GRAYSCALE)\n",
    "image_A = image_I.copy()\n",
    "#Now change to cells directory\n",
    "os.chdir('cells/')\n",
    "'''\n",
    "#Now let's run similar N value test to find optimal N\n",
    "for i in range(3, 60, 2):\n",
    "    #run Min-Filter First as Cells image has background dark\n",
    "    image_A_filtered = numpy_slicing_filter_function(image_A, i, 'min')\n",
    "    cv2.imwrite(f'Min_N_{i}.png', image_A_filtered)\n",
    "'''\n",
    "#From analysis N = 31 has all particles disappeared, now lets perform min_filter on image_A\n",
    "image_A = numpy_slicing_filter_function(image_A, 31, 'min')\n",
    "cv2.imwrite(\"image_A_selected_N=31.png\", image_A)\n",
    "'''\n",
    "#For analysis lets run image_B with various N\n",
    "for i in range(3, 60, 2):\n",
    "    #run Max-Filter on image_A \n",
    "    image_B_filtered = numpy_slicing_filter_function(image_A, i, 'max')\n",
    "    cv2.imwrite(f'Max_N_{i}.png', image_B_filtered)\n",
    "'''\n",
    "#Now we use same N for image_B\n",
    "image_B = numpy_slicing_filter_function(image_A, 31, 'max')\n",
    "cv2.imwrite(\"image_B_selected_N=31.png\", image_B)\n",
    "image_O = np.subtract(image_I.astype(np.float32), image_B.astype(np.float32)) \n",
    "cv2.imwrite('cells_image_O_raw.png', image_O)\n",
    "print(\"Completed! See image_O for output of cells.png under cells directory, filtered and normalised by O = I-B +255.\")"
   ]
  },
  {
   "cell_type": "markdown",
   "metadata": {
    "pycharm": {
     "name": "#%% md\n"
    }
   },
   "source": [
    "## Part II\n",
    "Extend your algorithm with another free parameter, named M. If the user sets M=0, the algorithm should perform max-filtering (image I to A), then min-filtering (image A to B), then subtraction (O = I - B). And if the user sets M = 1, the algorithm should perform first min-filtering, then max-filtering, then subtraction.\n",
    " "
   ]
  },
  {
   "cell_type": "code",
   "execution_count": 12,
   "metadata": {
    "pycharm": {
     "is_executing": false,
     "name": "#%%\n"
    }
   },
   "outputs": [
    {
     "name": "stdout",
     "text": [
      "Completed! Total process time is 9.35074234008789\n"
     ],
     "output_type": "stream"
    }
   ],
   "source": [
    "#Now change back to main directory\n",
    "os.chdir(main_directory)\n",
    "#For easier processing, we define another function that calls filter function\n",
    "def generalised_algorithm(input_image, N, M):\n",
    "    '''\n",
    "    generalised_algorithm calls numpy_slicing_filter function, and perform Max-Min or Min-Max filter based on M value,\n",
    "    :param input_image: Image filename, string with .png\n",
    "    :param N: Size of N, odd number only\n",
    "    :param M: 0 for Max then Min Filter, 1 for Min then Max Filter\n",
    "    :return: None\n",
    "    '''\n",
    "    image_I = cv2.imread(input_image, cv2.IMREAD_GRAYSCALE)\n",
    "    if M == 0: #Max-filter then Min Filter\n",
    "        #Always create a copy, do not play with original\n",
    "        image_A = image_I.copy()\n",
    "        image_A = numpy_slicing_filter_function(image_A, N, 'max')\n",
    "        image_B = numpy_slicing_filter_function(image_A, N, 'min')\n",
    "        #Output image\n",
    "        image_O_raw = np.subtract(image_I.astype(np.float32), image_B.astype(np.float32)) + 255\n",
    "    elif M == 1: #Min-filter then Max Filter\n",
    "        #Always create a copy, do not play with original\n",
    "        image_A = image_I.copy()\n",
    "        image_A = numpy_slicing_filter_function(image_A, N, 'min')\n",
    "        image_B = numpy_slicing_filter_function(image_A, N, 'max')    \n",
    "        #Output image\n",
    "        image_O_raw = np.subtract(image_I.astype(np.float32), image_B.astype(np.float32))\n",
    "    #Perform Contrast Stretching\n",
    "    a,b = 0,255\n",
    "    c,d = np.amin(image_O_raw), np.amax(image_O_raw)\n",
    "    image_O = (image_O_raw - c) * ((b-a)/(d-c)) + a\n",
    "    image_O = np.uint8(image_O)\n",
    "    show_image = np.concatenate((image_I, image_A), axis=1)\n",
    "    show_image = np.concatenate((show_image, image_B), axis=1)\n",
    "    show_image = np.concatenate((show_image, image_O_raw), axis=1)\n",
    "    show_image = np.concatenate((show_image, image_O), axis=1)\n",
    "    cv2.imwrite(\"image_O_raw.png\", image_O_raw)\n",
    "    cv2.imwrite(\"contrast_stretched_image_O.png\", image_O)\n",
    "    cv2.imwrite(\"input_image_filtered_process.png\", show_image)\n",
    "    #Add any filter function here and then concatenate it to a single image\n",
    "    return \n",
    "start_time = time.time()\n",
    "generalised_algorithm(\"Cells.png\", 31, 1) #To try different image, input here\n",
    "print(f\"Completed! Total process time is {time.time() - start_time}\")"
   ]
  }
 ],
 "metadata": {
  "kernelspec": {
   "display_name": "Python 3",
   "language": "python",
   "name": "python3"
  },
  "language_info": {
   "codemirror_mode": {
    "name": "ipython",
    "version": 3
   },
   "file_extension": ".py",
   "mimetype": "text/x-python",
   "name": "python",
   "nbconvert_exporter": "python",
   "pygments_lexer": "ipython3",
   "version": "3.7.7"
  },
  "pycharm": {
   "stem_cell": {
    "cell_type": "raw",
    "source": [],
    "metadata": {
     "collapsed": false
    }
   }
  }
 },
 "nbformat": 4,
 "nbformat_minor": 1
}